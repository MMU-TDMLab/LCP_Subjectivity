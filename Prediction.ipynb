{
 "cells": [
  {
   "cell_type": "code",
   "execution_count": 1,
   "id": "a59bc4ea",
   "metadata": {},
   "outputs": [],
   "source": [
    "import pandas\n",
    "from sklearn.svm import SVC\n",
    "from sklearn.ensemble import AdaBoostClassifier\n",
    "from sklearn.ensemble import RandomForestClassifier\n",
    "from sklearn.metrics import classification_report"
   ]
  },
  {
   "cell_type": "code",
   "execution_count": 2,
   "id": "8a030168",
   "metadata": {},
   "outputs": [],
   "source": [
    "df = pandas.read_pickle(\"lcp_ftrs.pkl\")"
   ]
  },
  {
   "cell_type": "code",
   "execution_count": 3,
   "id": "6fb18341",
   "metadata": {},
   "outputs": [],
   "source": [
    "df = df.drop_duplicates(subset=\"token\")"
   ]
  },
  {
   "cell_type": "code",
   "execution_count": 4,
   "id": "39e581d6",
   "metadata": {},
   "outputs": [],
   "source": [
    "len(df[df.subjectivity > 0.68])/len(df.subjectivity.to_list())\n",
    "df['subjective'] = df.subjectivity > 0.68"
   ]
  },
  {
   "cell_type": "code",
   "execution_count": 5,
   "id": "a247c1e8",
   "metadata": {},
   "outputs": [],
   "source": [
    "train = df.sample(frac=0.7,random_state=1)\n",
    "test = df.drop(train.index)"
   ]
  },
  {
   "cell_type": "code",
   "execution_count": 6,
   "id": "f67cb58b",
   "metadata": {},
   "outputs": [],
   "source": [
    "def get_x_y(df):\n",
    "    x = df.drop(columns=['token', 'anno_count', 'complexity', 'subjectivity','subjective'])\n",
    "    y = df.subjective\n",
    "    return x, y\n",
    "\n",
    "train_x, train_y = get_x_y(train)\n",
    "test_x,   test_y = get_x_y(test)"
   ]
  },
  {
   "cell_type": "code",
   "execution_count": 7,
   "id": "0478f29f",
   "metadata": {},
   "outputs": [],
   "source": [
    "rnf = RandomForestClassifier()\n",
    "svm = SVC()\n",
    "adb = AdaBoostClassifier()"
   ]
  },
  {
   "cell_type": "code",
   "execution_count": 8,
   "id": "2d0695bf",
   "metadata": {},
   "outputs": [
    {
     "data": {
      "text/plain": [
       "AdaBoostClassifier()"
      ]
     },
     "execution_count": 8,
     "metadata": {},
     "output_type": "execute_result"
    }
   ],
   "source": [
    "rnf.fit(train_x,train_y)\n",
    "svm.fit(train_x,train_y)\n",
    "adb.fit(train_x,train_y)"
   ]
  },
  {
   "cell_type": "code",
   "execution_count": 9,
   "id": "fbc22dcd",
   "metadata": {},
   "outputs": [],
   "source": [
    "y_pred_test_rnf = rnf.predict(test_x)\n",
    "y_pred_test_svm = svm.predict(test_x)\n",
    "y_pred_test_adb = adb.predict(test_x)"
   ]
  },
  {
   "cell_type": "code",
   "execution_count": 10,
   "id": "cfe6bb13",
   "metadata": {},
   "outputs": [
    {
     "name": "stdout",
     "output_type": "stream",
     "text": [
      "RF\n",
      "              precision    recall  f1-score   support\n",
      "\n",
      "       False      0.657     0.638     0.647       827\n",
      "        True      0.661     0.678     0.669       858\n",
      "\n",
      "    accuracy                          0.659      1685\n",
      "   macro avg      0.659     0.658     0.658      1685\n",
      "weighted avg      0.659     0.659     0.659      1685\n",
      "\n",
      "SVM\n",
      "              precision    recall  f1-score   support\n",
      "\n",
      "       False      0.736     0.476     0.579       827\n",
      "        True      0.623     0.836     0.714       858\n",
      "\n",
      "    accuracy                          0.659      1685\n",
      "   macro avg      0.680     0.656     0.646      1685\n",
      "weighted avg      0.679     0.659     0.648      1685\n",
      "\n",
      "AdaBoost\n",
      "              precision    recall  f1-score   support\n",
      "\n",
      "       False      0.715     0.585     0.644       827\n",
      "        True      0.660     0.775     0.713       858\n",
      "\n",
      "    accuracy                          0.682      1685\n",
      "   macro avg      0.687     0.680     0.678      1685\n",
      "weighted avg      0.687     0.682     0.679      1685\n",
      "\n"
     ]
    }
   ],
   "source": [
    "print(\"RF\")\n",
    "print(classification_report(test_y,y_pred_test_rnf,digits=3))\n",
    "\n",
    "print(\"SVM\")\n",
    "print(classification_report(test_y,y_pred_test_svm,digits=3))\n",
    "\n",
    "print(\"AdaBoost\")\n",
    "print(classification_report(test_y,y_pred_test_adb,digits=3))"
   ]
  },
  {
   "cell_type": "code",
   "execution_count": null,
   "id": "ad7c8a7b",
   "metadata": {},
   "outputs": [],
   "source": []
  }
 ],
 "metadata": {
  "kernelspec": {
   "display_name": "Python 3 (ipykernel)",
   "language": "python",
   "name": "python3"
  },
  "language_info": {
   "codemirror_mode": {
    "name": "ipython",
    "version": 3
   },
   "file_extension": ".py",
   "mimetype": "text/x-python",
   "name": "python",
   "nbconvert_exporter": "python",
   "pygments_lexer": "ipython3",
   "version": "3.8.5"
  }
 },
 "nbformat": 4,
 "nbformat_minor": 5
}
